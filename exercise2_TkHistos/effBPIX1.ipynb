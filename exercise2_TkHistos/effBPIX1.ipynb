{
 "cells": [
  {
   "cell_type": "code",
   "execution_count": 1,
   "metadata": {
    "collapsed": false
   },
   "outputs": [
    {
     "data": {
      "application/javascript": [
       "IPython.OutputArea.prototype._should_scroll = function(lines) {\n",
       "    return false;\n",
       "}"
      ],
      "text/plain": [
       "<IPython.core.display.Javascript object>"
      ]
     },
     "metadata": {},
     "output_type": "display_data"
    }
   ],
   "source": [
    "%%javascript\n",
    "IPython.OutputArea.prototype._should_scroll = function(lines) {\n",
    "    return false;\n",
    "}"
   ]
  },
  {
   "cell_type": "code",
   "execution_count": 2,
   "metadata": {
    "collapsed": false
   },
   "outputs": [
    {
     "name": "stdout",
     "output_type": "stream",
     "text": [
      "Linux vinavx3.cern.ch 3.10.0-514.10.2.el7.x86_64 #1 SMP Fri Mar 3 00:04:05 UTC 2017 x86_64 x86_64 x86_64 GNU/Linux\n",
      "innocent\n",
      "root://eoscms.cern.ch///store/express/Run2017C/ExpressPhysics/FEVT/Express-v1/000/299/593/00000/4269D74E-4A6E-E711-847B-02163E01A487.root\n",
      "root://eoscms.cern.ch///store/express/Run2017C/ExpressPhysics/FEVT/Express-v1/000/299/593/00000/4269D74E-4A6E-E711-847B-02163E01A487.root (1 runs, 3 lumis, 4077 events, 2088712010 bytes)\n"
     ]
    }
   ],
   "source": [
    "%%bash\n",
    "uname -a\n",
    "whoami\n",
    "\n",
    "edmFileUtil root://eoscms.cern.ch///store/express/Run2017C/ExpressPhysics/FEVT/Express-v1/000/299/593/00000/4269D74E-4A6E-E711-847B-02163E01A487.root"
   ]
  },
  {
   "cell_type": "code",
   "execution_count": 3,
   "metadata": {
    "collapsed": false
   },
   "outputs": [
    {
     "name": "stdout",
     "output_type": "stream",
     "text": [
      "Welcome to JupyROOT 6.10/01\n"
     ]
    }
   ],
   "source": [
    "import numpy as np\n",
    "import matplotlib.pyplot as plt\n",
    "%matplotlib inline\n",
    "import math\n",
    "import time\n",
    "from multiprocessing import Pool\n",
    "from DataFormats.FWLite import Handle, Events"
   ]
  },
  {
   "cell_type": "code",
   "execution_count": 66,
   "metadata": {
    "collapsed": true
   },
   "outputs": [],
   "source": [
    "xrd = 'root://cms-xrd-global.cern.ch//'\n",
    "tier0 = 'root://cms-xrd-tzero.cern.ch//' # 'file:/eos/cms/tier0'\n",
    "tier2 = 'root://eoscms.cern.ch//' #'file:/eos/cms'\n",
    "\n",
    "files = [\\\n",
    "         '/store/express/Run2017C/ExpressPhysics/FEVT/Express-v1/000/299/593/00000/4269D74E-4A6E-E711-847B-02163E01A487.root',\\\n",
    "         '/store/express/Run2017C/ExpressPhysics/FEVT/Express-v1/000/299/593/00000/2449BE69-4A6E-E711-BCD5-02163E0128FE.root',\\\n",
    "         '/store/express/Run2017C/ExpressPhysics/FEVT/Express-v1/000/299/593/00000/9C51DE1E-4A6E-E711-9701-02163E019E83.root',\\\n",
    "]\n",
    "files = map(lambda x : tier2+x,files)"
   ]
  },
  {
   "cell_type": "code",
   "execution_count": 67,
   "metadata": {
    "collapsed": true
   },
   "outputs": [],
   "source": [
    "label = \"generalTracks\"\n",
    "quality = \"highPurity\""
   ]
  },
  {
   "cell_type": "code",
   "execution_count": 68,
   "metadata": {
    "collapsed": true
   },
   "outputs": [],
   "source": [
    "def runid(event,lumi) :\n",
    "    id = event.object().id()\n",
    "    a=event.getByLabel('scalersRawToDigi', lumi)\n",
    "    return '{:d}:{:d}:{:.2e}'.format(int(id.run()),int(id.luminosityBlock()),lumi.product()[0].instantLumi())"
   ]
  },
  {
   "cell_type": "code",
   "execution_count": 91,
   "metadata": {
    "collapsed": true
   },
   "outputs": [],
   "source": [
    "def loadTk(events,tracks) :\n",
    "    tkParsA = []\n",
    "    tkHitsA = []\n",
    "    for i in range(0,events.size()):\n",
    "      a= events.to(i)\n",
    "      if (i%500==0) : \n",
    "        id = events.object().id()\n",
    "        evid = '{:d}:{:d}:{:d}'.format(int(id.run()),int(id.luminosityBlock()), int(id.event()))\n",
    "        print \"Event\", i , evid\n",
    "      a=events.getByLabel(label, tracks)\n",
    "      for tk in tracks.product() :\n",
    "        if (not tk.quality(tk.qualityByName(quality))) : continue\n",
    "        pattern = tk.hitPattern()\n",
    "        tkParsA.append([tk.eta(),tk.phi(),tk.pt(),pattern.numberOfValidHits(),pattern.numberOfValidPixelHits(),tk.ndof(),tk.chi2(),tk.originalAlgo()-4])\n",
    "        tkHitsA.append([pattern.getTrackerLayerCase(0,1,1), pattern.getTrackerLayerCase(1,1,1),\\\n",
    "                        pattern.getTrackerLayerCase(0,1,2), pattern.getTrackerLayerCase(1,1,2),\\\n",
    "                        pattern.getTrackerLayerCase(0,2,1), pattern.getTrackerLayerCase(1,2,1)])\n",
    "\n",
    "    print len(tkParsA)\n",
    "    tkPars = np.array(zip(*tkParsA))\n",
    "    print len(tkPars)\n",
    "    tkHits = np.array(zip(*tkHitsA))\n",
    "    print len(tkHits)\n",
    "    return tkPars,tkHits"
   ]
  },
  {
   "cell_type": "code",
   "execution_count": 92,
   "metadata": {
    "collapsed": true
   },
   "outputs": [],
   "source": [
    "def processIt(fevents) :\n",
    "    print fevents\n",
    "    events = Events(fevents)\n",
    "    tracks = Handle(\"std::vector<reco::Track>\")\n",
    "    lumi = Handle(\"std::vector<LumiScalers>\")\n",
    "    a= events.to(0)\n",
    "    runid0 = runid(events,lumi)\n",
    "    print runid0\n",
    "    tkPars, tkHits = loadTk(events,tracks)\n",
    "    return (runid0, tkPars, tkHits)"
   ]
  },
  {
   "cell_type": "code",
   "execution_count": 93,
   "metadata": {
    "collapsed": false
   },
   "outputs": [
    {
     "name": "stdout",
     "output_type": "stream",
     "text": [
      "root://eoscms.cern.ch///store/express/Run2017C/ExpressPhysics/FEVT/Express-v1/000/299/593/00000/9C51DE1E-4A6E-E711-9701-02163E019E83.root\n",
      "root://eoscms.cern.ch///store/express/Run2017C/ExpressPhysics/FEVT/Express-v1/000/299/593/00000/2449BE69-4A6E-E711-BCD5-02163E0128FE.root\n",
      "root://eoscms.cern.ch///store/express/Run2017C/ExpressPhysics/FEVT/Express-v1/000/299/593/00000/4269D74E-4A6E-E711-847B-02163E01A487.root\n",
      "299593:108:9.27e+01\n",
      "Event 0 299593:108:124023095\n",
      "299593:100:1.83e+03\n",
      "Event 0 299593:100:122634674\n",
      "299593:103:7.72e+02\n",
      "Event 0 299593:103:123173328\n",
      "Event 500 299593:108:124023756\n",
      "Event 1000 299593:108:123928241\n",
      "Event 1500 299593:109:124169317\n",
      "Event 2000 299593:109:124152702\n",
      "Event 2500 299593:109:124142463\n",
      "Event 3000 299593:110:124260531\n",
      "Event 3500 299593:110:124219553\n",
      "20150\n",
      "8\n",
      "6\n",
      "Event 500 299593:100:122689191\n",
      "Event 500 299593:103:123306714\n",
      "Event 1000 299593:100:122453234\n",
      "Event 1000 299593:103:123158786\n",
      "Event 1500 299593:104:123421208\n",
      "Event 1500 299593:101:122713468\n",
      "Event 2000 299593:101:122750168\n",
      "Event 2000 299593:104:123481221\n",
      "Event 2500 299593:101:122908744\n",
      "Event 2500 299593:104:123412794\n",
      "Event 3000 299593:105:123522581\n",
      "Event 3000 299593:102:123051433\n",
      "Event 3500 299593:102:123047193\n",
      "Event 4000 299593:102:122997725\n",
      "298214\n",
      "Event 3500 299593:105:123619221\n",
      "8\n",
      "Event 4000 299593:106:123717396\n",
      "Event 4500 299593:106:123684141\n",
      "Event 5000 299593:106:123721934\n",
      "6\n",
      "Event 5500 299593:107:123865625\n",
      "Event 6000 299593:107:123908346\n",
      "156616\n",
      "8\n",
      "6\n"
     ]
    }
   ],
   "source": [
    "p = Pool(4)"
   ]
  },
  {
   "cell_type": "code",
   "execution_count": 94,
   "metadata": {
    "collapsed": false
   },
   "outputs": [
    {
     "name": "stdout",
     "output_type": "stream",
     "text": [
      "11.9121398926\n",
      "('299593:100:1.83e+03', '299593:103:7.72e+02', '299593:108:9.27e+01')\n",
      "3\n"
     ]
    }
   ],
   "source": [
    "t = -time.time()\n",
    "ret = p.map(processIt,files)\n",
    "t +=time.time()\n",
    "print t\n",
    "runid0, tkPars, tkHits = zip(*ret)\n",
    "print runid0\n",
    "print len(tkHits)"
   ]
  },
  {
   "cell_type": "code",
   "execution_count": 95,
   "metadata": {
    "collapsed": true
   },
   "outputs": [],
   "source": [
    "p.terminate()"
   ]
  },
  {
   "cell_type": "code",
   "execution_count": 100,
   "metadata": {
    "collapsed": true
   },
   "outputs": [],
   "source": [
    "def eff(var,tkPars,tkHits) :\n",
    "    hp = np.greater(tkPars[2],1.)\n",
    "    valL2 = np.equal(tkHits[2],0)\n",
    "    valF1 = np.equal(tkHits[4],0)\n",
    "    hp = hp&(valL2|valF1)\n",
    "    nbins = 60\n",
    "    yv,x = np.histogram(tkPars[var],np.linspace(-3.,3.,nbins),weights=1.*hp*np.equal(tkHits[0],0)) \n",
    "    yl,x = np.histogram(tkPars[var],np.linspace(-3.,3.,nbins),weights=1.*hp*np.equal(tkHits[0],1)) \n",
    "    yi,x = np.histogram(tkPars[var],np.linspace(-3.,3.,nbins),weights=1.*hp*np.equal(tkHits[0],2)) \n",
    "    ym,x = np.histogram(tkPars[var],np.linspace(-3.,3.,nbins),weights=1.*hp*np.less(tkHits[1],10)) \n",
    "    ya=yv+ym+yl\n",
    "    y2,x = np.histogram(tkPars[var],np.linspace(-3.,3.,nbins),weights=1.*hp)\n",
    "    x.resize(len(yv))\n",
    "    return x,yv/ya"
   ]
  },
  {
   "cell_type": "code",
   "execution_count": 101,
   "metadata": {
    "collapsed": false
   },
   "outputs": [
    {
     "name": "stdout",
     "output_type": "stream",
     "text": [
      "3\n",
      "3\n"
     ]
    }
   ],
   "source": [
    "eta=0\n",
    "phi=1\n",
    "pt=2\n",
    "print len(ret)\n",
    "args = zip([phi]*len(ret),tkPars, tkHits)\n",
    "print len(args)"
   ]
  },
  {
   "cell_type": "code",
   "execution_count": 102,
   "metadata": {
    "collapsed": false
   },
   "outputs": [
    {
     "name": "stdout",
     "output_type": "stream",
     "text": [
      "3\n"
     ]
    }
   ],
   "source": [
    "bha = map(eff,[phi]*len(tkPars),tkPars, tkHits)\n",
    "print len(bha)"
   ]
  },
  {
   "cell_type": "code",
   "execution_count": 103,
   "metadata": {
    "collapsed": false
   },
   "outputs": [
    {
     "data": {
      "image/png": "[encoded data removed]",
      "text/plain": [
       "<matplotlib.figure.Figure at 0x7f15af677690>"
      ]
     },
     "metadata": {},
     "output_type": "display_data"
    },
    {
     "data": {
      "image/png": "[encoded data removed]",
      "text/plain": [
       "<matplotlib.figure.Figure at 0x7f15af677f10>"
      ]
     },
     "metadata": {},
     "output_type": "display_data"
    },
    {
     "data": {
      "image/png": "[encoded data removed]",
      "text/plain": [
       "<matplotlib.figure.Figure at 0x7f15af271510>"
      ]
     },
     "metadata": {},
     "output_type": "display_data"
    }
   ],
   "source": [
    "i=0\n",
    "for b in bha :\n",
    "    plt.step(b[0],b[1],where='post',label=runid0[i])\n",
    "    plt.grid(True)\n",
    "    plt.legend(loc='upper right')\n",
    "    plt.show()\n",
    "    i=i+1"
   ]
  }
 ],
 "metadata": {
  "kernelspec": {
   "display_name": "Python 2",
   "language": "python",
   "name": "python2"
  },
  "language_info": {
   "codemirror_mode": {
    "name": "ipython",
    "version": 2
   },
   "file_extension": ".py",
   "mimetype": "text/x-python",
   "name": "python",
   "nbconvert_exporter": "python",
   "pygments_lexer": "ipython2",
   "version": "2.7.11"
  }
 },
 "nbformat": 4,
 "nbformat_minor": 2
}
