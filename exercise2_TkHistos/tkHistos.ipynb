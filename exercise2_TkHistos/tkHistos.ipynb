{
 "cells": [
  {
   "cell_type": "code",
   "execution_count": 1,
   "metadata": {
    "collapsed": false
   },
   "outputs": [
    {
     "name": "stdout",
     "output_type": "stream",
     "text": [
      "/afs/cern.ch/work/i/innocent/public/code/s7/CMSSW_9_3_0_pre2\n",
      "/afs/cern.ch/user/i/innocent/POS2017/exercise2_TkHistos\n"
     ]
    }
   ],
   "source": [
    "%%bash\n",
    "echo $CMSSW_BASE\n",
    "echo $PWD"
   ]
  },
  {
   "cell_type": "code",
   "execution_count": 2,
   "metadata": {
    "collapsed": true
   },
   "outputs": [],
   "source": [
    "import numpy as np\n",
    "import matplotlib.pyplot as plt\n",
    "%matplotlib inline\n",
    "import math"
   ]
  },
  {
   "cell_type": "code",
   "execution_count": 3,
   "metadata": {
    "collapsed": false
   },
   "outputs": [
    {
     "data": {
      "application/javascript": [
       "IPython.OutputArea.prototype._should_scroll = function(lines) {\n",
       "    return false;\n",
       "}"
      ],
      "text/plain": [
       "<IPython.core.display.Javascript object>"
      ]
     },
     "metadata": {},
     "output_type": "display_data"
    }
   ],
   "source": [
    "%%javascript\n",
    "IPython.OutputArea.prototype._should_scroll = function(lines) {\n",
    "    return false;\n",
    "}"
   ]
  },
  {
   "cell_type": "code",
   "execution_count": 4,
   "metadata": {
    "collapsed": false
   },
   "outputs": [
    {
     "name": "stdout",
     "output_type": "stream",
     "text": [
      "Welcome to JupyROOT 6.10/01\n"
     ]
    }
   ],
   "source": [
    "from DataFormats.FWLite import Handle, Events"
   ]
  },
  {
   "cell_type": "code",
   "execution_count": 22,
   "metadata": {
    "collapsed": false
   },
   "outputs": [],
   "source": [
    "#LS50\n",
    "events2016HL = Events(\"root://cms-xrd-global.cern.ch///store/data/Run2016H/JetHT/AOD/PromptReco-v2/000/283/408/00000/AE49FDAB-8398-E611-9B98-02163E014388.root\")\n",
    "#LS1000\n",
    "events2016LL = Events(\"root://cms-xrd-global.cern.ch///store/data/Run2016H/JetHT/AOD/PromptReco-v2/000/283/408/00000/88FB6BA5-7B98-E611-B25E-FA163EE1CC08.root\")\n",
    "\n",
    "events2017B_HL = Events(\"root://cms-xrd-global.cern.ch///store/data/Run2017B/SingleMuon/AOD/PromptReco-v2/000/299/061/00000/5C4984B0-B86A-E711-837F-02163E01A792.root\")\n",
    "events2017B_LL = Events(\"root://cms-xrd-global.cern.ch///store/data/Run2017B/SingleMuon/AOD/PromptReco-v2/000/299/067/00000/B4146406-F66A-E711-B9C9-02163E014389.root\")\n",
    "\n",
    "tracks = Handle(\"std::vector<reco::Track>\")\n",
    "label = \"generalTracks\"\n",
    "quality = \"highPurity\""
   ]
  },
  {
   "cell_type": "code",
   "execution_count": 23,
   "metadata": {
    "collapsed": true
   },
   "outputs": [],
   "source": [
    "def nt(events) :\n",
    "    nt = []\n",
    "    for i in range(0,1000) : # events.size()):\n",
    "      a= events.to(i)\n",
    "      if (i%500==0) : print \"Event\", i \n",
    "      a=events.getByLabel(label, tracks)\n",
    "      nt.append(tracks.product().size())\n",
    "    print len(nt)\n",
    "    return nt"
   ]
  },
  {
   "cell_type": "code",
   "execution_count": 24,
   "metadata": {
    "collapsed": false
   },
   "outputs": [
    {
     "name": "stdout",
     "output_type": "stream",
     "text": [
      "Event 0\n",
      "Event 500\n",
      "1000\n"
     ]
    },
    {
     "data": {
      "image/png": "[encoded data removed]",
      "text/plain": [
       "<matplotlib.figure.Figure at 0x7ff294b7ffd0>"
      ]
     },
     "metadata": {},
     "output_type": "display_data"
    }
   ],
   "source": [
    "nt = nt(events2017B_HL)\n",
    "fig, ax = plt.subplots()\n",
    "ax.hist(nt,histtype='step', fill=False)\n",
    "ax.set_title('Number of tracks in event')\n",
    "ax.set_xlabel('#tracks')\n",
    "ax.set_ylabel('#events')\n",
    "plt.yscale('log', nonposy='clip')\n",
    "plt.show()"
   ]
  },
  {
   "cell_type": "code",
   "execution_count": 25,
   "metadata": {
    "collapsed": false
   },
   "outputs": [
    {
     "data": {
      "image/png": "[encoded data removed]",
      "text/plain": [
       "<matplotlib.figure.Figure at 0x7ff288ee2290>"
      ]
     },
     "metadata": {},
     "output_type": "display_data"
    }
   ],
   "source": [
    "y,x = np.histogram(nt,np.linspace(0.,3000.,300))\n",
    "x.resize(len(y))\n",
    "plt.step(x,y,where='post',label='N tracks')\n",
    "plt.grid(True)\n",
    "plt.legend(loc='upper right')\n",
    "plt.show()"
   ]
  },
  {
   "cell_type": "code",
   "execution_count": 26,
   "metadata": {
    "collapsed": false
   },
   "outputs": [],
   "source": [
    "def loadTk(events) :\n",
    "    tkParsA = []\n",
    "    tkHitsA = []\n",
    "    for i in range(0,2000) : # events.size()):\n",
    "      a= events.to(i)\n",
    "      if (i%500==0) : \n",
    "        id = events.object().id()\n",
    "        evid = '{:d}:{:d}:{:d}'.format(int(id.run()),int(id.luminosityBlock()), int(id.event()))\n",
    "        print \"Event\", i , evid\n",
    "      a=events.getByLabel(label, tracks)\n",
    "      for tk in tracks.product() :\n",
    "        if (not tk.quality(tk.qualityByName(quality))) : continue\n",
    "        pattern = tk.hitPattern()\n",
    "        tkParsA.append([tk.eta(),tk.phi(),tk.pt(),pattern.numberOfValidHits(),pattern.numberOfValidPixelHits(),tk.ndof(),tk.chi2(),tk.originalAlgo()-4])\n",
    "        tkHitsA.append([pattern.getTrackerLayerCase(0,1,1), pattern.getTrackerLayerCase(1,1,1),\\\n",
    "                        pattern.getTrackerLayerCase(0,1,2), pattern.getTrackerLayerCase(1,1,2),\\\n",
    "                        pattern.getTrackerLayerCase(0,2,1), pattern.getTrackerLayerCase(1,2,1)])\n",
    "\n",
    "    print len(tkParsA)\n",
    "    tkPars = np.array(zip(*tkParsA))\n",
    "    print len(tkPars)\n",
    "    tkHits = np.array(zip(*tkHitsA))\n",
    "    print len(tkHits)\n",
    "    return (tkPars,tkHits)"
   ]
  },
  {
   "cell_type": "code",
   "execution_count": 27,
   "metadata": {
    "collapsed": false
   },
   "outputs": [
    {
     "name": "stdout",
     "output_type": "stream",
     "text": [
      "Event 0 299067:23:26929302\n",
      "Event 500 299067:23:27292434\n",
      "Event 1000 299067:23:26656881\n",
      "Event 1500 299067:23:26264722\n",
      "1316998\n",
      "8\n",
      "6\n"
     ]
    }
   ],
   "source": [
    "tkPars, tkHits = loadTk(events2017B_LL)"
   ]
  },
  {
   "cell_type": "code",
   "execution_count": 28,
   "metadata": {
    "collapsed": false
   },
   "outputs": [
    {
     "name": "stdout",
     "output_type": "stream",
     "text": [
      "4.0 0 999999"
     ]
    },
    {
     "data": {
      "image/png": "[encoded data removed]",
      "text/plain": [
       "<matplotlib.figure.Figure at 0x7ff28896a910>"
      ]
     },
     "metadata": {},
     "output_type": "display_data"
    },
    {
     "data": {
      "image/png": "[encoded data removed]",
      "text/plain": [
       "<matplotlib.figure.Figure at 0x7ff288a7ced0>"
      ]
     },
     "metadata": {},
     "output_type": "display_data"
    },
    {
     "data": {
      "image/png": "[encoded data removed]",
      "text/plain": [
       "<matplotlib.figure.Figure at 0x7ff2892ff950>"
      ]
     },
     "metadata": {},
     "output_type": "display_data"
    },
    {
     "data": {
      "image/png": "[encoded data removed]",
      "text/plain": [
       "<matplotlib.figure.Figure at 0x7ff29421d7d0>"
      ]
     },
     "metadata": {},
     "output_type": "display_data"
    },
    {
     "data": {
      "image/png": "[encoded data removed]",
      "text/plain": [
       "<matplotlib.figure.Figure at 0x7ff2949f1790>"
      ]
     },
     "metadata": {},
     "output_type": "display_data"
    },
    {
     "name": "stdout",
     "output_type": "stream",
     "text": [
      "\n"
     ]
    }
   ],
   "source": [
    "print tkPars[4][0],tkHits[0][0],tkHits[1][0],\n",
    "eta=0\n",
    "phi=1\n",
    "pt=2\n",
    "\n",
    "var = phi\n",
    "hp = np.greater(tkPars[2],1.)\n",
    "valL2 = np.equal(tkHits[2],0)\n",
    "valF1 = np.equal(tkHits[4],0)\n",
    "hp = hp&(valL2|valF1)\n",
    "\n",
    "yv,x = np.histogram(tkPars[var],np.linspace(-3.,3.,150),weights=1.*hp*np.equal(tkHits[0],0)) \n",
    "yl,x = np.histogram(tkPars[var],np.linspace(-3.,3.,150),weights=1.*hp*np.equal(tkHits[0],1)) \n",
    "yi,x = np.histogram(tkPars[var],np.linspace(-3.,3.,150),weights=1.*hp*np.equal(tkHits[0],2)) \n",
    "ym,x = np.histogram(tkPars[var],np.linspace(-3.,3.,150),weights=1.*hp*np.less(tkHits[1],10)) \n",
    "ya=yv+ym+yl\n",
    "y2,x = np.histogram(tkPars[var],np.linspace(-3.,3.,150),weights=1.*hp)\n",
    "x.resize(len(yv))\n",
    "plt.step(x,yv/ya,where='post',label='eff')\n",
    "plt.grid(True)\n",
    "plt.legend(loc='upper right')\n",
    "plt.show()\n",
    "plt.step(x,ym/ya,where='post',label='N missing')\n",
    "plt.legend(loc='upper right')\n",
    "plt.show()\n",
    "plt.step(x,yl/ya,where='post',label='N lost')\n",
    "plt.legend(loc='upper right')\n",
    "plt.show()\n",
    "plt.step(x,yi/ya,where='post',label='N invalid')\n",
    "plt.legend(loc='upper right')\n",
    "plt.show()\n",
    "plt.step(x,ya/y2,where='post',label='N all')\n",
    "plt.legend(loc='upper right')\n",
    "plt.show()"
   ]
  }
 ],
 "metadata": {
  "kernelspec": {
   "display_name": "Python 2",
   "language": "python",
   "name": "python2"
  },
  "language_info": {
   "codemirror_mode": {
    "name": "ipython",
    "version": 2
   },
   "file_extension": ".py",
   "mimetype": "text/x-python",
   "name": "python",
   "nbconvert_exporter": "python",
   "pygments_lexer": "ipython2",
   "version": "2.7.11"
  }
 },
 "nbformat": 4,
 "nbformat_minor": 2
}
