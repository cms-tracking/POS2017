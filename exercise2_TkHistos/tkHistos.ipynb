{
 "cells": [
  {
   "cell_type": "code",
   "execution_count": 1,
   "metadata": {
    "collapsed": false
   },
   "outputs": [
    {
     "name": "stdout",
     "output_type": "stream",
     "text": [
      "/afs/cern.ch/work/i/innocent/public/code/s7/CMSSW_9_3_0_pre2\n",
      "/afs/cern.ch/user/i/innocent/POS2017/exercise2_TkHistos\n"
     ]
    }
   ],
   "source": [
    "%%bash\n",
    "echo $CMSSW_BASE\n",
    "echo $PWD"
   ]
  },
  {
   "cell_type": "code",
   "execution_count": 2,
   "metadata": {
    "collapsed": true
   },
   "outputs": [],
   "source": [
    "import numpy as np\n",
    "import matplotlib.pyplot as plt\n",
    "%matplotlib inline\n",
    "import math"
   ]
  },
  {
   "cell_type": "code",
   "execution_count": 3,
   "metadata": {
    "collapsed": false
   },
   "outputs": [
    {
     "data": {
      "application/javascript": [
       "IPython.OutputArea.prototype._should_scroll = function(lines) {\n",
       "    return false;\n",
       "}"
      ],
      "text/plain": [
       "<IPython.core.display.Javascript object>"
      ]
     },
     "metadata": {},
     "output_type": "display_data"
    }
   ],
   "source": [
    "%%javascript\n",
    "IPython.OutputArea.prototype._should_scroll = function(lines) {\n",
    "    return false;\n",
    "}"
   ]
  },
  {
   "cell_type": "code",
   "execution_count": 4,
   "metadata": {
    "collapsed": false
   },
   "outputs": [
    {
     "name": "stdout",
     "output_type": "stream",
     "text": [
      "Welcome to JupyROOT 6.10/01\n"
     ]
    }
   ],
   "source": [
    "from DataFormats.FWLite import Handle, Events"
   ]
  },
  {
   "cell_type": "code",
   "execution_count": 5,
   "metadata": {
    "collapsed": false
   },
   "outputs": [
    {
     "name": "stdout",
     "output_type": "stream",
     "text": [
      "Event 0\n",
      "Event 500\n",
      "1000\n"
     ]
    }
   ],
   "source": [
    "events = Events(\"root://cms-xrd-global.cern.ch///store/data/Run2017B/SingleMuon/AOD/PromptReco-v2/000/299/061/00000/5C4984B0-B86A-E711-837F-02163E01A792.root\")\n",
    "\n",
    "tracks = Handle(\"std::vector<reco::Track>\")\n",
    "label = \"generalTracks\"\n",
    "quality = \"highPurity\"\n",
    "\n",
    "nt = []\n",
    "for i in range(0,1000) : # events.size()):\n",
    "  a= events.to(i)\n",
    "  if (i%500==0) : print \"Event\", i \n",
    "  a=events.getByLabel(label, tracks)\n",
    "  nt.append(tracks.product().size())\n",
    "print len(nt)"
   ]
  },
  {
   "cell_type": "code",
   "execution_count": 6,
   "metadata": {
    "collapsed": false
   },
   "outputs": [
    {
     "data": {
      "image/png": "[encoded data removed]",
      "text/plain": [
       "<matplotlib.figure.Figure at 0x7f758773de10>"
      ]
     },
     "metadata": {},
     "output_type": "display_data"
    }
   ],
   "source": [
    "fig, ax = plt.subplots()\n",
    "ax.hist(nt,histtype='step', fill=False)\n",
    "ax.set_title('Number of tracks in event')\n",
    "ax.set_xlabel('#tracks')\n",
    "ax.set_ylabel('#events')\n",
    "plt.yscale('log', nonposy='clip')\n",
    "plt.show()"
   ]
  },
  {
   "cell_type": "code",
   "execution_count": 7,
   "metadata": {
    "collapsed": false
   },
   "outputs": [
    {
     "data": {
      "image/png": "[encoded data removed]",
      "text/plain": [
       "<matplotlib.figure.Figure at 0x7f75780e5710>"
      ]
     },
     "metadata": {},
     "output_type": "display_data"
    }
   ],
   "source": [
    "y,x = np.histogram(nt,np.linspace(0.,3000.,300))\n",
    "y.resize(len(x))\n",
    "plt.step(x,y,where='post',label='N tracks')\n",
    "plt.grid(True)\n",
    "plt.legend(loc='upper right')\n",
    "plt.show()"
   ]
  },
  {
   "cell_type": "code",
   "execution_count": 42,
   "metadata": {
    "collapsed": false
   },
   "outputs": [
    {
     "name": "stdout",
     "output_type": "stream",
     "text": [
      "Event 0\n",
      "Event 500\n",
      "907172\n"
     ]
    }
   ],
   "source": [
    "tks = []\n",
    "for i in range(0,1000) : # events.size()):\n",
    "  a= events.to(i)\n",
    "  if (i%500==0) : print \"Event\", i \n",
    "  a=events.getByLabel(label, tracks)\n",
    "  for tk in tracks.product() :\n",
    "    if (not tk.quality(tk.qualityByName(quality))) : continue\n",
    "    pattern = tk.hitPattern()\n",
    "    tks.append([tk.eta(),tk.phi(),tk.pt(),pattern.numberOfValidHits() ,float(pattern.numberOfValidPixelHits()),pattern.getTrackerLayerCase(0,1,1), pattern.getTrackerLayerCase(1,1,1),tk.ndof(),tk.chi2(),tk.originalAlgo()-4])\n",
    "print len(tks)"
   ]
  },
  {
   "cell_type": "code",
   "execution_count": 43,
   "metadata": {
    "collapsed": false
   },
   "outputs": [
    {
     "name": "stdout",
     "output_type": "stream",
     "text": [
      "10\n"
     ]
    }
   ],
   "source": [
    "tkcol = np.array(zip(*tks))\n",
    "print len(tkcol)"
   ]
  },
  {
   "cell_type": "code",
   "execution_count": 44,
   "metadata": {
    "collapsed": false
   },
   "outputs": [
    {
     "name": "stdout",
     "output_type": "stream",
     "text": [
      "8.0 0.0 999999.0"
     ]
    },
    {
     "data": {
      "image/png": "[encoded data removed]",
      "text/plain": [
       "<matplotlib.figure.Figure at 0x7f754d6c2f10>"
      ]
     },
     "metadata": {},
     "output_type": "display_data"
    },
    {
     "data": {
      "image/png": "[encoded data removed]",
      "text/plain": [
       "<matplotlib.figure.Figure at 0x7f754c7354d0>"
      ]
     },
     "metadata": {},
     "output_type": "display_data"
    },
    {
     "data": {
      "image/png": "[encoded data removed]",
      "text/plain": [
       "<matplotlib.figure.Figure at 0x7f758773ae90>"
      ]
     },
     "metadata": {},
     "output_type": "display_data"
    },
    {
     "data": {
      "image/png": "[encoded data removed]",
      "text/plain": [
       "<matplotlib.figure.Figure at 0x7f754d766c10>"
      ]
     },
     "metadata": {},
     "output_type": "display_data"
    },
    {
     "data": {
      "image/png": "[encoded data removed]",
      "text/plain": [
       "<matplotlib.figure.Figure at 0x7f75688c97d0>"
      ]
     },
     "metadata": {},
     "output_type": "display_data"
    },
    {
     "name": "stdout",
     "output_type": "stream",
     "text": [
      "\n"
     ]
    }
   ],
   "source": [
    "print tkcol[4][0],tkcol[5][0],tkcol[6][0],\n",
    "hp = np.greater(tkcol[2],1.)\n",
    "yv,x = np.histogram(tkcol[0],np.linspace(-3.,3.,150),weights=1.*hp*np.equal(tkcol[5],0)) # tkcol[4])\n",
    "yl,x = np.histogram(tkcol[0],np.linspace(-3.,3.,150),weights=1.*hp*np.equal(tkcol[5],1)) # tkcol[4])\n",
    "yi,x = np.histogram(tkcol[0],np.linspace(-3.,3.,150),weights=1.*hp*np.equal(tkcol[5],2)) # tkcol[4])\n",
    "ym,x = np.histogram(tkcol[0],np.linspace(-3.,3.,150),weights=1.*hp*np.less(tkcol[6],10)) # tkcol[4])\n",
    "ya=yv+ym+yl\n",
    "y2,x = np.histogram(tkcol[0],np.linspace(-3.,3.,150),weights=1.*hp)\n",
    "x.resize(len(yv))\n",
    "plt.step(x,yv/ya,where='post',label='eff')\n",
    "plt.grid(True)\n",
    "plt.legend(loc='upper right')\n",
    "plt.show()\n",
    "plt.step(x,ym/ya,where='post',label='N missing')\n",
    "plt.legend(loc='upper right')\n",
    "plt.show()\n",
    "plt.step(x,yl/ya,where='post',label='N lost')\n",
    "plt.legend(loc='upper right')\n",
    "plt.show()\n",
    "plt.step(x,yi/ya,where='post',label='N invalid')\n",
    "plt.legend(loc='upper right')\n",
    "plt.show()\n",
    "plt.step(x,ya/y2,where='post',label='N all')\n",
    "plt.legend(loc='upper right')\n",
    "plt.show()"
   ]
  }
 ],
 "metadata": {
  "kernelspec": {
   "display_name": "Python 2",
   "language": "python",
   "name": "python2"
  },
  "language_info": {
   "codemirror_mode": {
    "name": "ipython",
    "version": 2
   },
   "file_extension": ".py",
   "mimetype": "text/x-python",
   "name": "python",
   "nbconvert_exporter": "python",
   "pygments_lexer": "ipython2",
   "version": "2.7.11"
  }
 },
 "nbformat": 4,
 "nbformat_minor": 2
}
