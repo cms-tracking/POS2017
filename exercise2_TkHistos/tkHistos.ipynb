{
 "cells": [
  {
   "cell_type": "code",
   "execution_count": 1,
   "metadata": {
    "collapsed": false
   },
   "outputs": [
    {
     "name": "stdout",
     "output_type": "stream",
     "text": [
      "/afs/cern.ch/work/i/innocent/public/code/s7/CMSSW_9_3_0_pre2\n",
      "/afs/cern.ch/user/i/innocent/POS2017/exercise2_TkHistos\n"
     ]
    }
   ],
   "source": [
    "%%bash\n",
    "echo $CMSSW_BASE\n",
    "echo $PWD"
   ]
  },
  {
   "cell_type": "code",
   "execution_count": 2,
   "metadata": {
    "collapsed": false
   },
   "outputs": [
    {
     "name": "stdout",
     "output_type": "stream",
     "text": [
      "Linux vinavx3.cern.ch 3.10.0-514.10.2.el7.x86_64 #1 SMP Fri Mar 3 00:04:05 UTC 2017 x86_64 x86_64 x86_64 GNU/Linux\n",
      "innocent\n",
      "root://eoscms.cern.ch///store/express/Run2017C/ExpressPhysics/FEVT/Express-v1/000/299/593/00000/C0D83139-4A6E-E711-B1A9-02163E0137FC.root\n",
      "root://eoscms.cern.ch///store/express/Run2017C/ExpressPhysics/FEVT/Express-v1/000/299/593/00000/C0D83139-4A6E-E711-B1A9-02163E0137FC.root (1 runs, 1 lumis, 1522 events, 2449095209 bytes)\n",
      "root://eoscms.cern.ch///store/express/Run2017C/ExpressPhysics/FEVT/Express-v1/000/299/593/00000/4269D74E-4A6E-E711-847B-02163E01A487.root\n",
      "root://eoscms.cern.ch///store/express/Run2017C/ExpressPhysics/FEVT/Express-v1/000/299/593/00000/4269D74E-4A6E-E711-847B-02163E01A487.root (1 runs, 3 lumis, 4077 events, 2088712010 bytes)\n"
     ]
    }
   ],
   "source": [
    "%%bash\n",
    "uname -a\n",
    "whoami\n",
    "\n",
    "edmFileUtil root://eoscms.cern.ch///store/express/Run2017C/ExpressPhysics/FEVT/Express-v1/000/299/593/00000/C0D83139-4A6E-E711-B1A9-02163E0137FC.root\n",
    "edmFileUtil root://eoscms.cern.ch///store/express/Run2017C/ExpressPhysics/FEVT/Express-v1/000/299/593/00000/4269D74E-4A6E-E711-847B-02163E01A487.root"
   ]
  },
  {
   "cell_type": "code",
   "execution_count": 3,
   "metadata": {
    "collapsed": true
   },
   "outputs": [],
   "source": [
    "import numpy as np\n",
    "import matplotlib.pyplot as plt\n",
    "%matplotlib inline\n",
    "import math\n",
    "import time"
   ]
  },
  {
   "cell_type": "code",
   "execution_count": 4,
   "metadata": {
    "collapsed": false
   },
   "outputs": [
    {
     "data": {
      "application/javascript": [
       "IPython.OutputArea.prototype._should_scroll = function(lines) {\n",
       "    return false;\n",
       "}"
      ],
      "text/plain": [
       "<IPython.core.display.Javascript object>"
      ]
     },
     "metadata": {},
     "output_type": "display_data"
    }
   ],
   "source": [
    "%%javascript\n",
    "IPython.OutputArea.prototype._should_scroll = function(lines) {\n",
    "    return false;\n",
    "}"
   ]
  },
  {
   "cell_type": "code",
   "execution_count": 5,
   "metadata": {
    "collapsed": false
   },
   "outputs": [
    {
     "name": "stdout",
     "output_type": "stream",
     "text": [
      "Welcome to JupyROOT 6.10/01\n"
     ]
    }
   ],
   "source": [
    "from DataFormats.FWLite import Handle, Events"
   ]
  },
  {
   "cell_type": "code",
   "execution_count": 6,
   "metadata": {
    "collapsed": false
   },
   "outputs": [],
   "source": [
    "#LS50\n",
    "events2016HL = \"root://cms-xrd-global.cern.ch///store/data/Run2016H/JetHT/AOD/PromptReco-v2/000/283/408/00000/AE49FDAB-8398-E611-9B98-02163E014388.root\"\n",
    "#LS1000\n",
    "events2016LL = \"root://cms-xrd-global.cern.ch///store/data/Run2016H/JetHT/AOD/PromptReco-v2/000/283/408/00000/88FB6BA5-7B98-E611-B25E-FA163EE1CC08.root\"\n",
    "\n",
    "events2017B_HL = \"root://cms-xrd-global.cern.ch///store/data/Run2017B/SingleMuon/AOD/PromptReco-v2/000/299/061/00000/5C4984B0-B86A-E711-837F-02163E01A792.root\"\n",
    "events2017B_LL = \"root://cms-xrd-global.cern.ch///store/data/Run2017B/SingleMuon/AOD/PromptReco-v2/000/299/067/00000/B4146406-F66A-E711-B9C9-02163E014389.root\"\n",
    "\n",
    "label = \"generalTracks\"\n",
    "quality = \"highPurity\""
   ]
  },
  {
   "cell_type": "code",
   "execution_count": 7,
   "metadata": {
    "collapsed": true
   },
   "outputs": [],
   "source": [
    "def nt(fevents) :\n",
    "    events = Events(fevents)\n",
    "    tracks = Handle(\"std::vector<reco::Track>\")\n",
    "    nt = []\n",
    "    for i in range(0,1000) : # events.size()):\n",
    "      a= events.to(i)\n",
    "      if (i%500==0) : print \"Event\", i \n",
    "      a=events.getByLabel(label, tracks)\n",
    "      nt.append(tracks.product().size())\n",
    "    print len(nt)\n",
    "    return nt"
   ]
  },
  {
   "cell_type": "code",
   "execution_count": 8,
   "metadata": {
    "collapsed": false
   },
   "outputs": [
    {
     "name": "stdout",
     "output_type": "stream",
     "text": [
      "Event 0\n",
      "Event 500\n",
      "1000\n"
     ]
    },
    {
     "data": {
      "image/png": "[encoded data removed]",
      "text/plain": [
       "<matplotlib.figure.Figure at 0x7f8f0c1c3290>"
      ]
     },
     "metadata": {},
     "output_type": "display_data"
    }
   ],
   "source": [
    "nt = nt(events2017B_HL)\n",
    "fig, ax = plt.subplots()\n",
    "ax.hist(nt,histtype='step', fill=False)\n",
    "ax.set_title('Number of tracks in event')\n",
    "ax.set_xlabel('#tracks')\n",
    "ax.set_ylabel('#events')\n",
    "plt.yscale('log', nonposy='clip')\n",
    "plt.show()"
   ]
  },
  {
   "cell_type": "code",
   "execution_count": 9,
   "metadata": {
    "collapsed": false
   },
   "outputs": [
    {
     "data": {
      "image/png": "[encoded data removed]",
      "text/plain": [
       "<matplotlib.figure.Figure at 0x7f8f0c1b8e10>"
      ]
     },
     "metadata": {},
     "output_type": "display_data"
    }
   ],
   "source": [
    "y,x = np.histogram(nt,np.linspace(0.,3000.,300))\n",
    "x.resize(len(y))\n",
    "plt.step(x,y,where='post',label='N tracks')\n",
    "plt.grid(True)\n",
    "plt.legend(loc='upper right')\n",
    "plt.show()"
   ]
  },
  {
   "cell_type": "code",
   "execution_count": 20,
   "metadata": {
    "collapsed": false
   },
   "outputs": [
    {
     "name": "stdout",
     "output_type": "stream",
     "text": [
      "\n"
     ]
    }
   ],
   "source": [
    "# testBit() returns a nonzero result, 2**offset, if the bit at 'offset' is one.\n",
    "def testBit(int_type, offset):\n",
    "    mask = 1 << offset\n",
    "    return(int_type & mask)\n",
    "\n",
    "def onlyBit(int_type, offset):\n",
    "    mask = 1 << offset\n",
    "    return(int_type ^ mask)"
   ]
  },
  {
   "cell_type": "code",
   "execution_count": 23,
   "metadata": {
    "collapsed": false
   },
   "outputs": [],
   "source": [
    "def loadTk(fevents) :\n",
    "    print fevents\n",
    "    events = Events(fevents)\n",
    "    print events.size()\n",
    "    tracks = Handle(\"std::vector<reco::Track>\")\n",
    "    tkParsA = []\n",
    "    tkHitsA = []\n",
    "    for i in range(0,events.size()) :\n",
    "      if (len(tkParsA) > 1000000) : break\n",
    "      a= events.to(i)\n",
    "      if (i%500==0) : \n",
    "        id = events.object().id()\n",
    "        evid = '{:d}:{:d}:{:d}'.format(int(id.run()),int(id.luminosityBlock()), int(id.event()))\n",
    "        print \"Event\", i , evid, len(tkParsA)\n",
    "      a=events.getByLabel(label, tracks)\n",
    "      for tk in tracks.product() :\n",
    "        if (not tk.quality(tk.qualityByName(quality))) : continue\n",
    "        pattern = tk.hitPattern()\n",
    "        tkParsA.append([tk.eta(),tk.phi(),tk.pt(), tk.ndof(),tk.chi2()])\n",
    "        tkHitsA.append([pattern.numberOfValidHits(),pattern.numberOfValidPixelHits(),tk.originalAlgo()-4,tk.algoMaskUL()])\n",
    "\n",
    "    print len(tkParsA)\n",
    "    tkPars = np.array(zip(*tkParsA), dtype=np.float)\n",
    "    print len(tkPars)\n",
    "    tkHits = np.array(zip(*tkHitsA), dtype=np.int)\n",
    "    print len(tkHits)\n",
    "    return (tkPars,tkHits)"
   ]
  },
  {
   "cell_type": "code",
   "execution_count": 24,
   "metadata": {
    "collapsed": true
   },
   "outputs": [],
   "source": [
    "def loadFile() :\n",
    "    loaded = np.load('/tmp/events2017B_LL.npz')\n",
    "    return loaded['tkPars'], loaded['tkHits']"
   ]
  },
  {
   "cell_type": "code",
   "execution_count": 25,
   "metadata": {
    "collapsed": false
   },
   "outputs": [
    {
     "name": "stdout",
     "output_type": "stream",
     "text": [
      "root://cms-xrd-global.cern.ch///store/data/Run2017B/SingleMuon/AOD/PromptReco-v2/000/299/067/00000/B4146406-F66A-E711-B9C9-02163E014389.root\n",
      "13881\n",
      "Event 0 299067:23:26929302 0 0\n",
      "Event 500 299067:23:27292434 333013 333013\n",
      "Event 1000 299067:23:26656881 664073 664073\n",
      "Event 1500 299067:23:26264722 990570 990570\n",
      "1000107\n",
      "5\n",
      "4\n"
     ]
    }
   ],
   "source": [
    "fromAOD = False\n",
    "tkPars, tkHits = loadTk(events2017B_LL) if fromAOD else loadFile()"
   ]
  },
  {
   "cell_type": "code",
   "execution_count": 26,
   "metadata": {
    "collapsed": false
   },
   "outputs": [],
   "source": [
    "if fromAOD :\n",
    "    np.savez_compressed('/tmp/events2017B_LL',tkPars=tkPars, tkHits=tkHits)"
   ]
  },
  {
   "cell_type": "code",
   "execution_count": 27,
   "metadata": {
    "collapsed": false
   },
   "outputs": [
    {
     "name": "stdout",
     "output_type": "stream",
     "text": [
      "-rw-r--r--. 1 innocent zh 29998504 Jul 30 17:22 /tmp/events2017B_LL.npz\n"
     ]
    }
   ],
   "source": [
    "%%bash\n",
    "ls -l /tmp/events2017B_LL*"
   ]
  },
  {
   "cell_type": "code",
   "execution_count": 38,
   "metadata": {
    "collapsed": false
   },
   "outputs": [],
   "source": [
    "def nhit(var,tkPars, tkHits) :\n",
    "    hp = np.greater(tkPars[2],4.)\n",
    "    notQ = np.equal(tkHits[2],18)|np.equal(tkHits[2],1)|np.equal(tkHits[2],2)|np.equal(tkHits[2],3)\n",
    "    quad = np.equal(tkHits[2],0)|np.equal(tkHits[2],19)|np.equal(tkHits[2],20)\n",
    "    mu = np.not_equal(testBit(tkHits[3],4+9),0)\n",
    "    nbins=62\n",
    "    yn,x = np.histogram(tkPars[var],np.linspace(-3.1,3.1,nbins),weights=1.*tkHits[0]*hp)\n",
    "    ya,x = np.histogram(tkPars[var],np.linspace(-3.1,3.1,nbins),weights=1.*hp)\n",
    "    x.resize(len(ya))\n",
    "    return x,yn/ya,ya\n",
    "    "
   ]
  },
  {
   "cell_type": "code",
   "execution_count": 39,
   "metadata": {
    "collapsed": false
   },
   "outputs": [
    {
     "name": "stdout",
     "output_type": "stream",
     "text": [
      "70.6597290039 22 4"
     ]
    },
    {
     "data": {
      "image/png": "[encoded data removed]",
      "text/plain": [
       "<matplotlib.figure.Figure at 0x7f8eceb42350>"
      ]
     },
     "metadata": {},
     "output_type": "display_data"
    },
    {
     "name": "stdout",
     "output_type": "stream",
     "text": [
      "\n"
     ]
    }
   ],
   "source": [
    "print tkPars[4][0],tkHits[0][0],tkHits[1][0],\n",
    "eta=0\n",
    "phi=1\n",
    "pt=2\n",
    "\n",
    "var = eta\n",
    "x,y,ya = nhit(eta,tkPars, tkHits)\n",
    "\n",
    "plt.step(x,y,where='post',label='run xyz, lumi??')\n",
    "plt.grid(True)\n",
    "plt.legend(bbox_to_anchor=(1.05, 1), loc=2, borderaxespad=0.)\n",
    "plt.xlim(-3.1, 3.1)\n",
    "plt.xlabel('eta')\n",
    "plt.ylabel('<Nhits>')\n",
    "plt.show()"
   ]
  }
 ],
 "metadata": {
  "kernelspec": {
   "display_name": "Python 2",
   "language": "python",
   "name": "python2"
  },
  "language_info": {
   "codemirror_mode": {
    "name": "ipython",
    "version": 2
   },
   "file_extension": ".py",
   "mimetype": "text/x-python",
   "name": "python",
   "nbconvert_exporter": "python",
   "pygments_lexer": "ipython2",
   "version": "2.7.11"
  }
 },
 "nbformat": 4,
 "nbformat_minor": 2
}
